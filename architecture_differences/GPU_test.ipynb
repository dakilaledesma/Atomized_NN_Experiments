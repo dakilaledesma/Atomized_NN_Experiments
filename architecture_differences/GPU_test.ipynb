{
  "cells": [
    {
      "cell_type": "markdown",
      "metadata": {
        "id": "view-in-github",
        "colab_type": "text"
      },
      "source": [
        "<a href=\"https://colab.research.google.com/github/dakilaledesma/Atomized_NN_Experiments/blob/main/architecture_differences/GPU_test.ipynb\" target=\"_parent\"><img src=\"https://colab.research.google.com/assets/colab-badge.svg\" alt=\"Open In Colab\"/></a>"
      ]
    },
    {
      "cell_type": "code",
      "execution_count": 1,
      "metadata": {
        "colab": {
          "base_uri": "https://localhost:8080/"
        },
        "id": "4RBv2CGN3gJv",
        "outputId": "a3774fd8-ca71-4112-84e0-ec1f42864a0a"
      },
      "outputs": [
        {
          "output_type": "stream",
          "name": "stdout",
          "text": [
            "CPU times: user 55.6 ms, sys: 13.7 ms, total: 69.2 ms\n",
            "Wall time: 7.64 s\n"
          ]
        }
      ],
      "source": [
        "%%time\n",
        "! unzip -q drive/MyDrive/UNC/H2022/orchidaceae_test.zip -d /content/"
      ]
    },
    {
      "cell_type": "code",
      "execution_count": 2,
      "metadata": {
        "colab": {
          "base_uri": "https://localhost:8080/"
        },
        "id": "xXOHMDgapMby",
        "outputId": "0d64b8be-49ae-4073-a0e0-54caaec8432d"
      },
      "outputs": [
        {
          "output_type": "stream",
          "name": "stdout",
          "text": [
            "Cloning into 'pytorch-image-models'...\n",
            "remote: Enumerating objects: 10686, done.\u001b[K\n",
            "remote: Counting objects: 100% (217/217), done.\u001b[K\n",
            "remote: Compressing objects: 100% (129/129), done.\u001b[K\n",
            "remote: Total 10686 (delta 105), reused 158 (delta 83), pack-reused 10469\u001b[K\n",
            "Receiving objects: 100% (10686/10686), 20.36 MiB | 38.04 MiB/s, done.\n",
            "Resolving deltas: 100% (7818/7818), done.\n"
          ]
        }
      ],
      "source": [
        "! git clone https://github.com/rwightman/pytorch-image-models.git"
      ]
    },
    {
      "cell_type": "code",
      "execution_count": 7,
      "metadata": {
        "colab": {
          "base_uri": "https://localhost:8080/"
        },
        "id": "4kIBgHy6pSFD",
        "outputId": "8d2bd9f0-b88a-443b-a55b-3a6aac4c447b"
      },
      "outputs": [
        {
          "output_type": "stream",
          "name": "stdout",
          "text": [
            "Loaded state_dict from checkpoint '/content/drive/MyDrive/UNC/H2022/output/20220721-160046-sequencer2d_l-600/last.pth.tar'\n",
            "Model sequencer2d_l created, param count: 54028716\n",
            "Predict: [0/36] Time 7.706 (7.706)\n",
            "Predict: [10/36] Time 2.163 (2.670)\n",
            "Predict: [20/36] Time 2.163 (2.431)\n",
            "Predict: [30/36] Time 2.161 (2.344)\n"
          ]
        }
      ],
      "source": [
        "! python -u ./pytorch-image-models/inference.py orchidaceae_test -b 128 --input-size 3 600 600 --num-classes 300 --no-test-pool --checkpoint /content/drive/MyDrive/UNC/H2022/output/20220721-160046-sequencer2d_l-600/last.pth.tar --model sequencer2d_l"
      ]
    },
    {
      "cell_type": "code",
      "source": [
        "def get_acc():\n",
        "  output_file = open(\"topk_ids.csv\")\n",
        "  output_lines = output_file.readlines()\n",
        "  cl_dict = {}\n",
        "  for line in output_lines:\n",
        "    line = line.strip().split(\",\")\n",
        "    cat = line[0].split(\"__\")[0]\n",
        "    if not cat in cl_dict.keys():\n",
        "      cl_dict[cat] = len(cl_dict.keys())\n",
        "\n",
        "  corr = 0\n",
        "  total = 0\n",
        "  for line in output_lines:\n",
        "    line = line.strip().split(\",\")\n",
        "    cat = int(cl_dict[line[0].split(\"__\")[0]])\n",
        "    pred = int(line[1])\n",
        "\n",
        "    if cat == pred:\n",
        "      corr += 1\n",
        "\n",
        "    total += 1\n",
        "\n",
        "  print(corr / total)"
      ],
      "metadata": {
        "id": "1A1y6atk6Gg1"
      },
      "execution_count": 8,
      "outputs": []
    },
    {
      "cell_type": "code",
      "source": [
        "# Checkpoint 55/80\n",
        "get_acc()"
      ],
      "metadata": {
        "colab": {
          "base_uri": "https://localhost:8080/"
        },
        "id": "FKIDdkgMQwBL",
        "outputId": "d177784d-2635-4b8d-902f-e28514f92dc3"
      },
      "execution_count": 9,
      "outputs": [
        {
          "output_type": "stream",
          "name": "stdout",
          "text": [
            "0.7861044352195762\n"
          ]
        }
      ]
    },
    {
      "cell_type": "code",
      "source": [
        ""
      ],
      "metadata": {
        "id": "tEMKaejO6k3R"
      },
      "execution_count": null,
      "outputs": []
    }
  ],
  "metadata": {
    "accelerator": "GPU",
    "colab": {
      "collapsed_sections": [],
      "name": "[Summer] GPU-Sequencer2D-test",
      "provenance": [],
      "mount_file_id": "1b2dyo_uZLSsGnU-8ZE3V0EVCRPXbwZ1q",
      "authorship_tag": "ABX9TyOG7UYcb4MRGbC62X/Kkg83",
      "include_colab_link": true
    },
    "kernelspec": {
      "display_name": "Python 3",
      "name": "python3"
    },
    "language_info": {
      "name": "python"
    },
    "gpuClass": "standard"
  },
  "nbformat": 4,
  "nbformat_minor": 0
}