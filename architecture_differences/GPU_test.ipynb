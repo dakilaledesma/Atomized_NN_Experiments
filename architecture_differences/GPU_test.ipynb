{
  "cells": [
    {
      "cell_type": "markdown",
      "metadata": {
        "id": "view-in-github",
        "colab_type": "text"
      },
      "source": [
        "<a href=\"https://colab.research.google.com/github/dakilaledesma/Atomized_NN_Experiments/blob/main/architecture_differences/GPU_test.ipynb\" target=\"_parent\"><img src=\"https://colab.research.google.com/assets/colab-badge.svg\" alt=\"Open In Colab\"/></a>"
      ]
    },
    {
      "cell_type": "code",
      "execution_count": 1,
      "metadata": {
        "colab": {
          "base_uri": "https://localhost:8080/"
        },
        "id": "4RBv2CGN3gJv",
        "outputId": "94b31eae-8ffd-42da-9b04-90091df35df8"
      },
      "outputs": [
        {
          "output_type": "stream",
          "name": "stdout",
          "text": [
            "CPU times: user 86.9 ms, sys: 16.1 ms, total: 103 ms\n",
            "Wall time: 13.3 s\n"
          ]
        }
      ],
      "source": [
        "%%time\n",
        "! unzip -q drive/MyDrive/UNC/H2022/orchidaceae_test.zip -d /content/"
      ]
    },
    {
      "cell_type": "code",
      "execution_count": 2,
      "metadata": {
        "colab": {
          "base_uri": "https://localhost:8080/"
        },
        "id": "xXOHMDgapMby",
        "outputId": "8378bd91-3d3b-40aa-da00-92ab2fe7473e"
      },
      "outputs": [
        {
          "output_type": "stream",
          "name": "stdout",
          "text": [
            "Cloning into 'pytorch-image-models'...\n",
            "remote: Enumerating objects: 10691, done.\u001b[K\n",
            "remote: Counting objects: 100% (222/222), done.\u001b[K\n",
            "remote: Compressing objects: 100% (131/131), done.\u001b[K\n",
            "remote: Total 10691 (delta 109), reused 162 (delta 86), pack-reused 10469\u001b[K\n",
            "Receiving objects: 100% (10691/10691), 20.37 MiB | 10.89 MiB/s, done.\n",
            "Resolving deltas: 100% (7823/7823), done.\n"
          ]
        }
      ],
      "source": [
        "! git clone https://github.com/rwightman/pytorch-image-models.git"
      ]
    },
    {
      "cell_type": "code",
      "source": [
        "! pip install git+https://github.com/mapillary/inplace_abn.git@v1.0.12"
      ],
      "metadata": {
        "colab": {
          "base_uri": "https://localhost:8080/"
        },
        "id": "2WbHSaJeZ0BG",
        "outputId": "a1f8a192-fa6e-46fe-cced-aa2acf62ad86"
      },
      "execution_count": 3,
      "outputs": [
        {
          "output_type": "stream",
          "name": "stdout",
          "text": [
            "Looking in indexes: https://pypi.org/simple, https://us-python.pkg.dev/colab-wheels/public/simple/\n",
            "Collecting git+https://github.com/mapillary/inplace_abn.git@v1.0.12\n",
            "  Cloning https://github.com/mapillary/inplace_abn.git (to revision v1.0.12) to /tmp/pip-req-build-icdq3glb\n",
            "  Running command git clone -q https://github.com/mapillary/inplace_abn.git /tmp/pip-req-build-icdq3glb\n",
            "  Running command git checkout -q 24fc791e6d4796a1639e7a5dce6fa67377e51a3e\n",
            "Building wheels for collected packages: inplace-abn\n",
            "  Building wheel for inplace-abn (setup.py) ... \u001b[?25l\u001b[?25hdone\n",
            "  Created wheel for inplace-abn: filename=inplace_abn-1.0.12-cp37-cp37m-linux_x86_64.whl size=2324594 sha256=9c86c00546d9856db4179433f42314837a897f807ce938f03ba7e9d483a6111c\n",
            "  Stored in directory: /tmp/pip-ephem-wheel-cache-uherql6l/wheels/df/ad/aa/7ec1eff8c9b56fb3fab10471e91c80bdf3b52036bf47727bae\n",
            "Successfully built inplace-abn\n",
            "Installing collected packages: inplace-abn\n",
            "Successfully installed inplace-abn-1.0.12\n"
          ]
        }
      ]
    },
    {
      "cell_type": "code",
      "execution_count": 4,
      "metadata": {
        "colab": {
          "base_uri": "https://localhost:8080/"
        },
        "id": "4kIBgHy6pSFD",
        "outputId": "f5c26074-e699-44af-d829-a0a38a061a15"
      },
      "outputs": [
        {
          "output_type": "stream",
          "name": "stdout",
          "text": [
            "Loaded state_dict from checkpoint '/content/drive/MyDrive/UNC/H2022/output/20220722-163041-sequencer2d_l-600/last.pth.tar'\n",
            "Model sequencer2d_l created, param count: 54028716\n",
            "Predict: [0/36] Time 14.602 (14.602)\n",
            "Predict: [10/36] Time 3.503 (4.912)\n",
            "Predict: [20/36] Time 3.498 (4.527)\n",
            "Predict: [30/36] Time 3.522 (4.389)\n"
          ]
        }
      ],
      "source": [
        "! python -u ./pytorch-image-models/inference.py orchidaceae_test -b 128 --input-size 3 600 600 --num-classes 300 --no-test-pool --checkpoint /content/drive/MyDrive/UNC/H2022/output/20220722-163041-sequencer2d_l-600/last.pth.tar --model sequencer2d_l"
      ]
    },
    {
      "cell_type": "code",
      "source": [
        "def get_acc():\n",
        "  output_file = open(\"topk_ids.csv\")\n",
        "  output_lines = output_file.readlines()\n",
        "  cl_dict = {}\n",
        "  for line in output_lines:\n",
        "    line = line.strip().split(\",\")\n",
        "    cat = line[0].split(\"__\")[0]\n",
        "    if not cat in cl_dict.keys():\n",
        "      cl_dict[cat] = len(cl_dict.keys())\n",
        "\n",
        "  corr = 0\n",
        "  total = 0\n",
        "  for line in output_lines:\n",
        "    line = line.strip().split(\",\")\n",
        "    cat = int(cl_dict[line[0].split(\"__\")[0]])\n",
        "    pred = int(line[1])\n",
        "\n",
        "    if cat == pred:\n",
        "      corr += 1\n",
        "\n",
        "    total += 1\n",
        "\n",
        "  print(corr / total)"
      ],
      "metadata": {
        "id": "1A1y6atk6Gg1"
      },
      "execution_count": 5,
      "outputs": []
    },
    {
      "cell_type": "code",
      "source": [
        "# S2D AutoAugment Checkpoint 80/80\n",
        "get_acc()"
      ],
      "metadata": {
        "colab": {
          "base_uri": "https://localhost:8080/"
        },
        "id": "FKIDdkgMQwBL",
        "outputId": "fa6c552c-a328-4475-b528-e3e5f2cd80c2"
      },
      "execution_count": 6,
      "outputs": [
        {
          "output_type": "stream",
          "name": "stdout",
          "text": [
            "0.8064234214551016\n"
          ]
        }
      ]
    },
    {
      "cell_type": "code",
      "source": [
        "! python -u ./pytorch-image-models/inference.py orchidaceae_test -b 128 --input-size 3 600 600 --num-classes 300 --no-test-pool --checkpoint /content/drive/MyDrive/UNC/H2022/output/20220718-180733-tresnet_m_448-600/last.pth.tar --model tresnet_m_448"
      ],
      "metadata": {
        "id": "tEMKaejO6k3R",
        "colab": {
          "base_uri": "https://localhost:8080/"
        },
        "outputId": "3431e600-36ab-4360-c9ba-13b0f91a939f"
      },
      "execution_count": null,
      "outputs": [
        {
          "output_type": "stream",
          "name": "stdout",
          "text": [
            "Loaded state_dict from checkpoint '/content/drive/MyDrive/UNC/H2022/output/20220718-180733-tresnet_m_448-600/last.pth.tar'\n",
            "Model tresnet_m_448 created, param count: 29954732\n",
            "Predict: [0/36] Time 9.461 (9.461)\n",
            "Predict: [10/36] Time 0.317 (1.811)\n",
            "Predict: [20/36] Time 0.317 (1.693)\n",
            "Predict: [30/36] Time 0.317 (1.657)\n"
          ]
        }
      ]
    },
    {
      "cell_type": "code",
      "source": [
        "# TRN AutoAugment Checkpoint 80/80\n",
        "get_acc()"
      ],
      "metadata": {
        "colab": {
          "base_uri": "https://localhost:8080/"
        },
        "id": "uBJCA3zqZhCv",
        "outputId": "8ebd1884-a378-45b9-f2cf-fd394ec1e4bd"
      },
      "execution_count": null,
      "outputs": [
        {
          "output_type": "stream",
          "name": "stdout",
          "text": [
            "0.818876993663972\n"
          ]
        }
      ]
    },
    {
      "cell_type": "code",
      "source": [
        ""
      ],
      "metadata": {
        "id": "CrMbLVSyZlRe"
      },
      "execution_count": null,
      "outputs": []
    }
  ],
  "metadata": {
    "accelerator": "GPU",
    "colab": {
      "collapsed_sections": [],
      "name": "[Summer] ArchDiffs-test",
      "provenance": [],
      "mount_file_id": "1b2dyo_uZLSsGnU-8ZE3V0EVCRPXbwZ1q",
      "authorship_tag": "ABX9TyNZoLQdPW0IdetolO8Y4l1x",
      "include_colab_link": true
    },
    "kernelspec": {
      "display_name": "Python 3",
      "name": "python3"
    },
    "language_info": {
      "name": "python"
    },
    "gpuClass": "standard"
  },
  "nbformat": 4,
  "nbformat_minor": 0
}