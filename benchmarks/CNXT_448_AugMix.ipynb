{
  "cells": [
    {
      "cell_type": "markdown",
      "metadata": {
        "id": "view-in-github",
        "colab_type": "text"
      },
      "source": [
        "<a href=\"https://colab.research.google.com/github/dakilaledesma/Atomized_NN_Experiments/blob/main/benchmarks/CNXT_448_AugMix.ipynb\" target=\"_parent\"><img src=\"https://colab.research.google.com/assets/colab-badge.svg\" alt=\"Open In Colab\"/></a>"
      ]
    },
    {
      "cell_type": "code",
      "execution_count": null,
      "metadata": {
        "colab": {
          "base_uri": "https://localhost:8080/"
        },
        "id": "4RBv2CGN3gJv",
        "outputId": "f63c1f36-cc94-44bd-d505-e4e30e77f193"
      },
      "outputs": [
        {
          "output_type": "stream",
          "name": "stdout",
          "text": [
            "CPU times: user 133 ms, sys: 18.3 ms, total: 151 ms\n",
            "Wall time: 19.2 s\n"
          ]
        }
      ],
      "source": [
        "%%time\n",
        "! unzip -q drive/MyDrive/UNC/H2022/orchidaceae_train.zip -d /content/"
      ]
    },
    {
      "cell_type": "code",
      "execution_count": null,
      "metadata": {
        "colab": {
          "base_uri": "https://localhost:8080/"
        },
        "id": "xXOHMDgapMby",
        "outputId": "43c27a69-3465-4ba8-bf42-fd46935acffe"
      },
      "outputs": [
        {
          "output_type": "stream",
          "name": "stdout",
          "text": [
            "Cloning into 'pytorch-image-models'...\n",
            "remote: Enumerating objects: 10686, done.\u001b[K\n",
            "remote: Counting objects: 100% (217/217), done.\u001b[K\n",
            "remote: Compressing objects: 100% (128/128), done.\u001b[K\n",
            "remote: Total 10686 (delta 105), reused 159 (delta 84), pack-reused 10469\u001b[K\n",
            "Receiving objects: 100% (10686/10686), 20.37 MiB | 14.68 MiB/s, done.\n",
            "Resolving deltas: 100% (7815/7815), done.\n"
          ]
        }
      ],
      "source": [
        "! git clone https://github.com/rwightman/pytorch-image-models.git"
      ]
    },
    {
      "cell_type": "code",
      "execution_count": null,
      "metadata": {
        "id": "slckThLBilky"
      },
      "outputs": [],
      "source": [
        "import fileinput\n",
        "import sys\n",
        "\n",
        "def replacement(file, previousw, nextw):\n",
        "   for line in fileinput.input(file, inplace=1):\n",
        "       line = line.replace(previousw, nextw)\n",
        "       sys.stdout.write(line)\n",
        "\n",
        "file = \"/content/pytorch-image-models/timm/utils/checkpoint_saver.py\"\n",
        "replacement(file, \"if os.path.exists(last_save_path):\", \"# if os.path.exists(last_save_path):\")\n",
        "replacement(file, \"os.unlink(last_save_path)  # required for Windows support.\", \"# os.unlink(last_save_path)  # required for Windows support.\")\n",
        "replacement(file, \"os.link(last_save_path, save_path)\", \"# os.link(last_save_path, save_path)\")\n",
        "replacement(file, \"os.unlink(best_save_path)\", \"# os.unlink(best_save_path)\")\n",
        "replacement(file, \"os.link(last_save_path, best_save_path)\", \"# os.link(last_save_path, best_save_path)\")\n",
        "replacement(file, \"if os.path.exists(best_save_path):\", \"# if os.path.exists(best_save_path):\")\n"
      ]
    },
    {
      "cell_type": "code",
      "execution_count": null,
      "metadata": {
        "id": "4kIBgHy6pSFD",
        "colab": {
          "base_uri": "https://localhost:8080/"
        },
        "outputId": "70fb85fa-aea2-4e69-f751-f2e833658fa1"
      },
      "outputs": [
        {
          "output_type": "stream",
          "name": "stdout",
          "text": [
            "/usr/local/lib/python3.7/dist-packages/torch/distributed/launch.py:186: FutureWarning: The module torch.distributed.launch is deprecated\n",
            "and will be removed in future. Use torchrun.\n",
            "Note that --use_env is set by default in torchrun.\n",
            "If your script expects `--local_rank` argument to be set, please\n",
            "change it to read from `os.environ['LOCAL_RANK']` instead. See \n",
            "https://pytorch.org/docs/stable/distributed.html#launch-utility for \n",
            "further instructions\n",
            "\n",
            "  FutureWarning,\n",
            "Training with a single process on 1 GPUs.\n",
            "Loading pretrained weights from url (https://dl.fbaipublicfiles.com/convnext/convnext_base_22k_1k_384.pth)\n",
            "Model convnext_base_384_in22ft1k created, param count:87873964\n",
            "Data processing configuration for current model + dataset:\n",
            "\tinput_size: (3, 448, 448)\n",
            "\tinterpolation: bicubic\n",
            "\tmean: (0.485, 0.456, 0.406)\n",
            "\tstd: (0.229, 0.224, 0.225)\n",
            "\tcrop_pct: 1.0\n",
            "Using native Torch AMP. Training in mixed precision.\n",
            "Scheduled epochs: 80\n",
            "/usr/local/lib/python3.7/dist-packages/torch/utils/data/dataloader.py:560: UserWarning: This DataLoader will create 4 worker processes in total. Our suggested max number of worker in current system is 2, which is smaller than what this DataLoader is going to create. Please be aware that excessive worker creation might get DataLoader running slow or even freeze, lower the worker number to avoid potential slowness/freeze if necessary.\n",
            "  cpuset_checked))\n",
            "Train: 0 [   0/1177 (  0%)]  Loss: 5.927 (5.93)  Time: 8.147s,    1.96/s  (8.147s,    1.96/s)  LR: 1.000e-04  Data: 2.152 (2.152)\n",
            "Train: 0 [  50/1177 (  4%)]  Loss: 5.773 (5.81)  Time: 1.013s,   15.80/s  (0.690s,   23.18/s)  LR: 1.000e-04  Data: 0.620 (0.182)\n",
            "Train: 0 [ 100/1177 (  9%)]  Loss: 5.753 (5.74)  Time: 0.553s,   28.92/s  (0.639s,   25.03/s)  LR: 1.000e-04  Data: 0.116 (0.189)\n",
            "Train: 0 [ 150/1177 ( 13%)]  Loss: 5.580 (5.71)  Time: 0.736s,   21.73/s  (0.620s,   25.79/s)  LR: 1.000e-04  Data: 0.331 (0.191)\n",
            "Train: 0 [ 200/1177 ( 17%)]  Loss: 5.757 (5.68)  Time: 0.398s,   40.16/s  (0.607s,   26.36/s)  LR: 1.000e-04  Data: 0.026 (0.186)\n",
            "Train: 0 [ 250/1177 ( 21%)]  Loss: 5.830 (5.64)  Time: 0.894s,   17.90/s  (0.603s,   26.51/s)  LR: 1.000e-04  Data: 0.492 (0.190)\n",
            "Train: 0 [ 300/1177 ( 26%)]  Loss: 5.312 (5.56)  Time: 0.399s,   40.10/s  (0.594s,   26.92/s)  LR: 1.000e-04  Data: 0.017 (0.185)\n",
            "Train: 0 [ 350/1177 ( 30%)]  Loss: 4.550 (5.47)  Time: 0.632s,   25.30/s  (0.593s,   26.99/s)  LR: 1.000e-04  Data: 0.212 (0.186)\n",
            "Train: 0 [ 400/1177 ( 34%)]  Loss: 4.688 (5.39)  Time: 0.413s,   38.77/s  (0.589s,   27.14/s)  LR: 1.000e-04  Data: 0.025 (0.184)\n",
            "Train: 0 [ 450/1177 ( 38%)]  Loss: 4.949 (5.32)  Time: 0.387s,   41.29/s  (0.589s,   27.17/s)  LR: 1.000e-04  Data: 0.022 (0.185)\n",
            "Train: 0 [ 500/1177 ( 43%)]  Loss: 4.966 (5.22)  Time: 0.412s,   38.85/s  (0.589s,   27.14/s)  LR: 1.000e-04  Data: 0.013 (0.187)\n",
            "Train: 0 [ 550/1177 ( 47%)]  Loss: 4.053 (5.13)  Time: 0.606s,   26.40/s  (0.586s,   27.32/s)  LR: 1.000e-04  Data: 0.204 (0.184)\n",
            "Train: 0 [ 600/1177 ( 51%)]  Loss: 4.411 (5.04)  Time: 0.326s,   49.02/s  (0.586s,   27.31/s)  LR: 1.000e-04  Data: 0.012 (0.185)\n",
            "Train: 0 [ 650/1177 ( 55%)]  Loss: 3.115 (4.96)  Time: 0.368s,   43.45/s  (0.583s,   27.42/s)  LR: 1.000e-04  Data: 0.014 (0.183)\n",
            "Train: 0 [ 700/1177 ( 60%)]  Loss: 3.918 (4.88)  Time: 0.392s,   40.83/s  (0.585s,   27.34/s)  LR: 1.000e-04  Data: 0.017 (0.185)\n"
          ]
        }
      ],
      "source": [
        "! python -u -m torch.distributed.launch --nproc_per_node=1 --nnodes=1 --node_rank=0 ./pytorch-image-models/train.py orchidaceae_train --model convnext_base_384_in22ft1k --opt adabelief --lr 0.001 --epochs 80 --aa augmix-m5-w4-mstd0.5 --aug-splits 2 --jsd-loss --decay-epochs 3 --cooldown-epochs 0 --weight-decay 1e-4 --sched cosine -b 8 --input-size 3 448 448 --num-classes=300 --vflip 0.5 --hflip 0.5 --amp --pretrained --output drive/MyDrive/UNC/H2022/output/"
      ]
    },
    {
      "cell_type": "code",
      "source": [
        ""
      ],
      "metadata": {
        "id": "m5h7A57w5qyf"
      },
      "execution_count": null,
      "outputs": []
    }
  ],
  "metadata": {
    "accelerator": "GPU",
    "colab": {
      "background_execution": "on",
      "collapsed_sections": [],
      "name": "[Summer] Benchmark-CNXT-448",
      "provenance": [],
      "mount_file_id": "1QejUz0Jst3i4z8n-r_JD36LNWDMb7HZq",
      "authorship_tag": "ABX9TyMuZM0KMnV5BLZmlPK/VjwB",
      "include_colab_link": true
    },
    "gpuClass": "standard",
    "kernelspec": {
      "display_name": "Python 3",
      "name": "python3"
    },
    "language_info": {
      "name": "python"
    }
  },
  "nbformat": 4,
  "nbformat_minor": 0
}