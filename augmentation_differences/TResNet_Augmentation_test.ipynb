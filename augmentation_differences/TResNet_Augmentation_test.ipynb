{
  "cells": [
    {
      "cell_type": "markdown",
      "metadata": {
        "id": "view-in-github",
        "colab_type": "text"
      },
      "source": [
        "<a href=\"https://colab.research.google.com/github/dakilaledesma/Atomized_NN_Experiments/blob/main/augmentation_differences/TResNet_Augmentation_test.ipynb\" target=\"_parent\"><img src=\"https://colab.research.google.com/assets/colab-badge.svg\" alt=\"Open In Colab\"/></a>"
      ]
    },
    {
      "cell_type": "code",
      "execution_count": 7,
      "metadata": {
        "colab": {
          "base_uri": "https://localhost:8080/"
        },
        "id": "4RBv2CGN3gJv",
        "outputId": "768ee0ba-dca8-4ac0-ebca-58f16121821d"
      },
      "outputs": [
        {
          "output_type": "stream",
          "name": "stdout",
          "text": [
            "CPU times: user 70.4 ms, sys: 19.3 ms, total: 89.8 ms\n",
            "Wall time: 11 s\n"
          ]
        }
      ],
      "source": [
        "%%time\n",
        "! unzip -q drive/MyDrive/UNC/H2022/orchidaceae_test.zip -d /content/"
      ]
    },
    {
      "cell_type": "code",
      "execution_count": 2,
      "metadata": {
        "colab": {
          "base_uri": "https://localhost:8080/"
        },
        "id": "xXOHMDgapMby",
        "outputId": "be0e0357-d664-4ed3-b219-d4dc10f04c5b"
      },
      "outputs": [
        {
          "output_type": "stream",
          "name": "stdout",
          "text": [
            "Cloning into 'pytorch-image-models'...\n",
            "remote: Enumerating objects: 10691, done.\u001b[K\n",
            "remote: Counting objects: 100% (222/222), done.\u001b[K\n",
            "remote: Compressing objects: 100% (131/131), done.\u001b[K\n",
            "remote: Total 10691 (delta 109), reused 162 (delta 86), pack-reused 10469\u001b[K\n",
            "Receiving objects: 100% (10691/10691), 20.37 MiB | 16.77 MiB/s, done.\n",
            "Resolving deltas: 100% (7822/7822), done.\n"
          ]
        }
      ],
      "source": [
        "! git clone https://github.com/rwightman/pytorch-image-models.git"
      ]
    },
    {
      "cell_type": "code",
      "source": [
        "! pip install git+https://github.com/mapillary/inplace_abn.git@v1.0.12"
      ],
      "metadata": {
        "colab": {
          "base_uri": "https://localhost:8080/"
        },
        "id": "dMqLN8ls58vW",
        "outputId": "37bc7979-36ab-477a-8d01-b5f0dcecbca1"
      },
      "execution_count": 3,
      "outputs": [
        {
          "output_type": "stream",
          "name": "stdout",
          "text": [
            "Looking in indexes: https://pypi.org/simple, https://us-python.pkg.dev/colab-wheels/public/simple/\n",
            "Collecting git+https://github.com/mapillary/inplace_abn.git@v1.0.12\n",
            "  Cloning https://github.com/mapillary/inplace_abn.git (to revision v1.0.12) to /tmp/pip-req-build-dga69tyh\n",
            "  Running command git clone -q https://github.com/mapillary/inplace_abn.git /tmp/pip-req-build-dga69tyh\n",
            "  Running command git checkout -q 24fc791e6d4796a1639e7a5dce6fa67377e51a3e\n",
            "Building wheels for collected packages: inplace-abn\n",
            "  Building wheel for inplace-abn (setup.py) ... \u001b[?25l\u001b[?25hdone\n",
            "  Created wheel for inplace-abn: filename=inplace_abn-1.0.12-cp37-cp37m-linux_x86_64.whl size=2324519 sha256=7650a90bf28517fb9436eef57ed96d3a018a974747eadcc6b212bea34a020eaa\n",
            "  Stored in directory: /tmp/pip-ephem-wheel-cache-miqxctuh/wheels/df/ad/aa/7ec1eff8c9b56fb3fab10471e91c80bdf3b52036bf47727bae\n",
            "Successfully built inplace-abn\n",
            "Installing collected packages: inplace-abn\n",
            "Successfully installed inplace-abn-1.0.12\n"
          ]
        }
      ]
    },
    {
      "cell_type": "code",
      "execution_count": 8,
      "metadata": {
        "colab": {
          "base_uri": "https://localhost:8080/"
        },
        "id": "4kIBgHy6pSFD",
        "outputId": "61f6df8f-3f4a-48a6-8fb4-1dd4fb99f8ae"
      },
      "outputs": [
        {
          "output_type": "stream",
          "name": "stdout",
          "text": [
            "Loaded state_dict from checkpoint '/content/drive/MyDrive/UNC/H2022/output/20220723-203649-tresnet_m_448-600/last.pth.tar'\n",
            "Model tresnet_m_448 created, param count: 29954732\n",
            "Predict: [0/36] Time 17.052 (17.052)\n",
            "Predict: [10/36] Time 1.251 (3.320)\n",
            "Predict: [20/36] Time 1.799 (3.087)\n",
            "Predict: [30/36] Time 1.775 (3.004)\n"
          ]
        }
      ],
      "source": [
        "! python -u ./pytorch-image-models/inference.py orchidaceae_test -b 128 --input-size 3 600 600 --num-classes 300 --no-test-pool --checkpoint /content/drive/MyDrive/UNC/H2022/output/20220723-203649-tresnet_m_448-600/last.pth.tar --model tresnet_m_448"
      ]
    },
    {
      "cell_type": "code",
      "source": [
        "def get_acc():\n",
        "  output_file = open(\"topk_ids.csv\")\n",
        "  output_lines = output_file.readlines()\n",
        "  cl_dict = {}\n",
        "  for line in output_lines:\n",
        "    line = line.strip().split(\",\")\n",
        "    cat = line[0].split(\"__\")[0]\n",
        "    if not cat in cl_dict.keys():\n",
        "      cl_dict[cat] = len(cl_dict.keys())\n",
        "\n",
        "  corr = 0\n",
        "  total = 0\n",
        "  for line in output_lines:\n",
        "    line = line.strip().split(\",\")\n",
        "    cat = int(cl_dict[line[0].split(\"__\")[0]])\n",
        "    pred = int(line[1])\n",
        "\n",
        "    if cat == pred:\n",
        "      corr += 1\n",
        "\n",
        "    total += 1\n",
        "\n",
        "  print(corr / total)"
      ],
      "metadata": {
        "id": "1A1y6atk6Gg1"
      },
      "execution_count": 9,
      "outputs": []
    },
    {
      "cell_type": "code",
      "source": [
        "# AugMix\n",
        "get_acc()"
      ],
      "metadata": {
        "colab": {
          "base_uri": "https://localhost:8080/"
        },
        "id": "FKIDdkgMQwBL",
        "outputId": "4520f521-d5a7-4cf3-bef1-0125d4178bb1"
      },
      "execution_count": 10,
      "outputs": [
        {
          "output_type": "stream",
          "name": "stdout",
          "text": [
            "0.8258684727987765\n"
          ]
        }
      ]
    },
    {
      "cell_type": "code",
      "source": [
        "# AutoAugment\n",
        "! python -u ./pytorch-image-models/inference.py orchidaceae_test -b 128 --input-size 3 600 600 --num-classes 300 --no-test-pool --checkpoint /content/drive/MyDrive/UNC/H2022/output/20220718-180733-tresnet_m_448-600/last.pth.tar --model tresnet_m_448"
      ],
      "metadata": {
        "id": "UleA0xKjSfds",
        "colab": {
          "base_uri": "https://localhost:8080/"
        },
        "outputId": "8ea3fad9-5cff-457a-eb96-4076063ac503"
      },
      "execution_count": null,
      "outputs": [
        {
          "output_type": "stream",
          "name": "stdout",
          "text": [
            "Loaded state_dict from checkpoint '/content/drive/MyDrive/UNC/H2022/output/20220718-180733-tresnet_m_448-600/last.pth.tar'\n",
            "Model tresnet_m_448 created, param count: 29954732\n",
            "Predict: [0/36] Time 12.382 (12.382)\n",
            "Predict: [10/36] Time 0.856 (3.215)\n",
            "Predict: [20/36] Time 0.938 (2.973)\n",
            "Predict: [30/36] Time 1.118 (2.900)\n"
          ]
        }
      ]
    },
    {
      "cell_type": "code",
      "source": [
        "get_acc()"
      ],
      "metadata": {
        "colab": {
          "base_uri": "https://localhost:8080/"
        },
        "id": "9ZxxeGxZ6bbg",
        "outputId": "252e5707-61e5-4b4b-d680-60aa40b38315"
      },
      "execution_count": null,
      "outputs": [
        {
          "output_type": "stream",
          "name": "stdout",
          "text": [
            "0.818876993663972\n"
          ]
        }
      ]
    },
    {
      "cell_type": "code",
      "source": [
        ""
      ],
      "metadata": {
        "id": "tEMKaejO6k3R"
      },
      "execution_count": null,
      "outputs": []
    }
  ],
  "metadata": {
    "accelerator": "GPU",
    "colab": {
      "collapsed_sections": [],
      "name": "[Summer] GPU-TResNet-Augmentation-test",
      "provenance": [],
      "mount_file_id": "17p50IeODdkgVpfKzpCscT8Kt38ZJfE-b",
      "authorship_tag": "ABX9TyPqlyeuPXgWMhYk1+mf+/8T",
      "include_colab_link": true
    },
    "kernelspec": {
      "display_name": "Python 3",
      "name": "python3"
    },
    "language_info": {
      "name": "python"
    },
    "gpuClass": "standard"
  },
  "nbformat": 4,
  "nbformat_minor": 0
}